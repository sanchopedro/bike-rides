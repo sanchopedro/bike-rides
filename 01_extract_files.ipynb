{
 "cells": [
  {
   "cell_type": "markdown",
   "metadata": {},
   "source": [
    "# Download the Dataset - London Bike Sharing from Kaggle"
   ]
  },
  {
   "cell_type": "code",
   "execution_count": 14,
   "metadata": {},
   "outputs": [],
   "source": [
    "import kaggle\n",
    "import zipfile\n",
    "import os"
   ]
  },
  {
   "cell_type": "markdown",
   "metadata": {},
   "source": [
    "### 1.1 Download the dataset"
   ]
  },
  {
   "cell_type": "code",
   "execution_count": 15,
   "metadata": {},
   "outputs": [],
   "source": [
    "# Create 'datasets' folder if it not exist\n",
    "os.makedirs('datasets', exist_ok=True)\n"
   ]
  },
  {
   "cell_type": "code",
   "execution_count": 16,
   "metadata": {},
   "outputs": [
    {
     "name": "stdout",
     "output_type": "stream",
     "text": [
      "Dataset URL: https://www.kaggle.com/datasets/hmavrodiev/london-bike-sharing-dataset\n",
      "License(s): other\n",
      "Downloading london-bike-sharing-dataset.zip to datasets\n",
      "\n"
     ]
    },
    {
     "name": "stderr",
     "output_type": "stream",
     "text": [
      "\n",
      "  0%|          | 0.00/165k [00:00<?, ?B/s]\n",
      "100%|██████████| 165k/165k [00:00<00:00, 399kB/s]\n",
      "100%|██████████| 165k/165k [00:00<00:00, 397kB/s]\n"
     ]
    }
   ],
   "source": [
    "! kaggle datasets download -d hmavrodiev/london-bike-sharing-dataset -p datasets"
   ]
  },
  {
   "cell_type": "markdown",
   "metadata": {},
   "source": [
    "### 1.2. Extract the file from downloaded zip"
   ]
  },
  {
   "cell_type": "code",
   "execution_count": 17,
   "metadata": {},
   "outputs": [],
   "source": [
    "# Extract the file from the downloaded zip file\n",
    "zipfile_name = \"./datasets/london-bike-sharing-dataset.zip\"\n",
    "extract_to = \"./datasets\"\n",
    "\n",
    "with zipfile.ZipFile(zipfile_name, \"r\") as file:\n",
    "    file.extractall(extract_to)"
   ]
  }
 ],
 "metadata": {
  "kernelspec": {
   "display_name": "env",
   "language": "python",
   "name": "python3"
  },
  "language_info": {
   "codemirror_mode": {
    "name": "ipython",
    "version": 3
   },
   "file_extension": ".py",
   "mimetype": "text/x-python",
   "name": "python",
   "nbconvert_exporter": "python",
   "pygments_lexer": "ipython3",
   "version": "3.11.9"
  }
 },
 "nbformat": 4,
 "nbformat_minor": 2
}
